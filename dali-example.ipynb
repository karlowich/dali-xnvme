{
 "cells": [
  {
   "cell_type": "code",
   "execution_count": null,
   "id": "93d403e6",
   "metadata": {},
   "outputs": [],
   "source": [
    "import os\n",
    "import torch\n",
    "import numpy as np\n",
    "import torchvision.datasets as datasets\n",
    "import torchvision.transforms as transforms\n",
    "from PIL import Image\n",
    "from functools import partial\n",
    "from torchvision.transforms.functional import InterpolationMode\n",
    "from nvidia.dali.plugin.pytorch import DALIClassificationIterator\n",
    "from nvidia.dali.backend import TensorListGPU\n",
    "from nvidia.dali import pipeline_def, Pipeline\n",
    "import nvidia.dali.ops as ops\n",
    "import nvidia.dali.types as types\n",
    "import nvidia.dali.fn as fn\n",
    "\n",
    "import matplotlib.gridspec as gridspec\n",
    "import matplotlib.pyplot as plt\n",
    "\n",
    "DATADIR = \"/data\"\n",
    "BATCH_SIZE = 4 # batch size per GPU"
   ]
  },
  {
   "cell_type": "code",
   "execution_count": null,
   "id": "67a50d18",
   "metadata": {},
   "outputs": [],
   "source": [
    "#https://docs.nvidia.com/deeplearning/dali/user-guide/docs/examples/image_processing/decoder_examples.html\n",
    "def show_images(image_batch):\n",
    "    columns = 4\n",
    "    rows = (BATCH_SIZE + 1) // (columns)\n",
    "    fig = plt.figure(figsize=(32, (32 // columns) * rows))\n",
    "    gs = gridspec.GridSpec(rows, columns)\n",
    "    for j in range(rows * columns):\n",
    "        plt.subplot(gs[j])\n",
    "        plt.axis(\"off\")\n",
    "        plt.imshow(image_batch.at(j))\n",
    "\n",
    "def show_pipeline_output(pipe):\n",
    "    pipe.build()\n",
    "    images, _ = pipe.run()\n",
    "    if isinstance(images, TensorListGPU):\n",
    "        images = images.as_cpu()\n",
    "    show_images(images)"
   ]
  },
  {
   "cell_type": "code",
   "execution_count": null,
   "id": "3417ace2",
   "metadata": {},
   "outputs": [],
   "source": [
    "@pipeline_def\n",
    "def pipeline(crop=224):\n",
    "    traindir = os.path.join(DATADIR, \"train\")\n",
    "    jpegs, labels = fn.readers.file(file_root=traindir,\n",
    "            shard_id=0,\n",
    "            num_shards=1,\n",
    "            random_shuffle=True,\n",
    "            pad_last_batch=True,)\n",
    "    images = fn.decoders.image(jpegs,\n",
    "        device=\"mixed\",\n",
    "        output_type=types.RGB,\n",
    "        device_memory_padding=211025920,\n",
    "        host_memory_padding=140544512,\n",
    "    )\n",
    "    images = fn.random_resized_crop(\n",
    "        images,\n",
    "        device=\"gpu\",\n",
    "        size=[crop, crop],\n",
    "        interp_type=types.INTERP_LINEAR,\n",
    "        random_aspect_ratio=[0.75, 4.0 / 3.0],\n",
    "        random_area=[0.08, 1.0],\n",
    "        num_attempts=100,\n",
    "        antialias=False,\n",
    "    )\n",
    "    images = fn.crop_mirror_normalize(\n",
    "        images,\n",
    "        device=\"gpu\",\n",
    "        dtype=types.FLOAT,\n",
    "#         output_layout=types.NCHW,\n",
    "        output_layout=\"HWC\",\n",
    "        crop=(crop, crop),\n",
    "        mean=[0.485 * 255, 0.456 * 255, 0.406 * 255],\n",
    "        std=[0.229 * 255, 0.224 * 255, 0.225 * 255],\n",
    "    )\n",
    "    return images, labels"
   ]
  },
  {
   "cell_type": "code",
   "execution_count": null,
   "id": "f3ee3447",
   "metadata": {},
   "outputs": [],
   "source": [
    "pipe = pipeline(batch_size=BATCH_SIZE, num_threads=2, device_id=0)\n",
    "show_pipeline_output(pipe)"
   ]
  },
  {
   "cell_type": "code",
   "execution_count": null,
   "id": "037602d1",
   "metadata": {},
   "outputs": [],
   "source": []
  }
 ],
 "metadata": {
  "kernelspec": {
   "display_name": "Python 3 (ipykernel)",
   "language": "python",
   "name": "python3"
  },
  "language_info": {
   "codemirror_mode": {
    "name": "ipython",
    "version": 3
   },
   "file_extension": ".py",
   "mimetype": "text/x-python",
   "name": "python",
   "nbconvert_exporter": "python",
   "pygments_lexer": "ipython3",
   "version": "3.8.10"
  }
 },
 "nbformat": 4,
 "nbformat_minor": 5
}
